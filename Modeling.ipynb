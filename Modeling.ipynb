{
 "cells": [
  {
   "cell_type": "code",
   "execution_count": null,
   "id": "f7fa4eb7",
   "metadata": {},
   "outputs": [],
   "source": []
  },
  {
   "cell_type": "markdown",
   "id": "a705d7ec",
   "metadata": {},
   "source": [
    "# Import libraries"
   ]
  },
  {
   "cell_type": "code",
   "execution_count": 1,
   "id": "29c7bccd",
   "metadata": {},
   "outputs": [],
   "source": [
    "import pandas as pd\n",
    "import numpy as np\n",
    "import matplotlib.pyplot as plt\n",
    "import scipy.stats as stats\n",
    "from scipy.stats import shapiro\n",
    "import seaborn as sns\n",
    "\n",
    "\n",
    "\n",
    "# for the model\n",
    "from sklearn.model_selection import train_test_split\n",
    "from sklearn.ensemble import GradientBoostingClassifier,RandomForestClassifier\n",
    "from sklearn.tree import DecisionTreeClassifier\n",
    "\n",
    "from sklearn.linear_model import LogisticRegression \n",
    "from xgboost import XGBClassifier\n",
    "\n",
    "#Undersampling\n",
    "from imblearn.under_sampling import RandomUnderSampler, InstanceHardnessThreshold\n",
    "\n",
    "# Over sampling\n",
    "from imblearn.over_sampling import RandomOverSampler, SMOTENC\n",
    "\n",
    "\n",
    "from imblearn.over_sampling import (\n",
    "    RandomOverSampler,\n",
    "    SMOTENC\n",
    ")\n",
    "\n",
    "from imblearn.ensemble import (\n",
    "    RUSBoostClassifier,\n",
    "    EasyEnsembleClassifier,\n",
    ")\n",
    "from sklearn.model_selection import StratifiedKFold, cross_val_score, cross_validate\n",
    "\n",
    "from sklearn.metrics import (\n",
    "    accuracy_score,\n",
    "    precision_score,\n",
    "    roc_auc_score,\n",
    "    recall_score,\n",
    "    f1_score,\n",
    "    classification_report,\n",
    "    precision_recall_fscore_support,\n",
    "    confusion_matrix, \n",
    "    ConfusionMatrixDisplay)\n",
    "\n",
    "from sklearn.model_selection import RandomizedSearchCV, GridSearchCV,  KFold, StratifiedKFold\n",
    "\n",
    "from sklearn.pipeline import Pipeline\n"
   ]
  },
  {
   "cell_type": "markdown",
   "id": "cfb4bafb",
   "metadata": {},
   "source": [
    "# Loading data"
   ]
  },
  {
   "cell_type": "code",
   "execution_count": 2,
   "id": "3dce294d",
   "metadata": {},
   "outputs": [],
   "source": [
    "pd.set_option('display.max_columns', None)\n",
    "X_train = pd.read_csv('data/X_traint.csv')\n",
    "X_test = pd.read_csv('data/X_test.csv')\n",
    "\n",
    "y_train = pd.read_csv('data/y_traint.csv', index_col=0).squeeze(1)\n",
    " \n",
    "y_test = pd.read_csv('data/y_test.csv',index_col=0).squeeze(1)\n"
   ]
  },
  {
   "cell_type": "code",
   "execution_count": 3,
   "id": "f4279c6c",
   "metadata": {},
   "outputs": [
    {
     "data": {
      "text/html": [
       "<div>\n",
       "<style scoped>\n",
       "    .dataframe tbody tr th:only-of-type {\n",
       "        vertical-align: middle;\n",
       "    }\n",
       "\n",
       "    .dataframe tbody tr th {\n",
       "        vertical-align: top;\n",
       "    }\n",
       "\n",
       "    .dataframe thead th {\n",
       "        text-align: right;\n",
       "    }\n",
       "</style>\n",
       "<table border=\"1\" class=\"dataframe\">\n",
       "  <thead>\n",
       "    <tr style=\"text-align: right;\">\n",
       "      <th></th>\n",
       "      <th>Unnamed: 0</th>\n",
       "      <th>stand__age</th>\n",
       "      <th>stand__cigsPerDay</th>\n",
       "      <th>stand__totChol</th>\n",
       "      <th>stand__BMI</th>\n",
       "      <th>stand__heartRate</th>\n",
       "      <th>stand__glucose</th>\n",
       "      <th>remainder__currentSmoker</th>\n",
       "      <th>remainder__prevalentHyp</th>\n",
       "      <th>remainder__diabetes</th>\n",
       "      <th>remainder__sysBP</th>\n",
       "      <th>remainder__diaBP</th>\n",
       "      <th>remainder__education_uneducated</th>\n",
       "      <th>remainder__education_primaryschool</th>\n",
       "      <th>remainder__education_graduate</th>\n",
       "      <th>remainder__BPMeds_0.0</th>\n",
       "      <th>remainder__Gender_Male</th>\n",
       "      <th>remainder__prevalentStroke_no</th>\n",
       "    </tr>\n",
       "  </thead>\n",
       "  <tbody>\n",
       "    <tr>\n",
       "      <th>0</th>\n",
       "      <td>264</td>\n",
       "      <td>0.894112</td>\n",
       "      <td>-0.758292</td>\n",
       "      <td>-1.406496</td>\n",
       "      <td>3.030421</td>\n",
       "      <td>-0.643393</td>\n",
       "      <td>0.518596</td>\n",
       "      <td>0</td>\n",
       "      <td>1</td>\n",
       "      <td>0</td>\n",
       "      <td>6</td>\n",
       "      <td>8</td>\n",
       "      <td>1</td>\n",
       "      <td>0</td>\n",
       "      <td>0</td>\n",
       "      <td>1</td>\n",
       "      <td>1</td>\n",
       "      <td>1</td>\n",
       "    </tr>\n",
       "    <tr>\n",
       "      <th>1</th>\n",
       "      <td>385</td>\n",
       "      <td>-1.294345</td>\n",
       "      <td>-0.758292</td>\n",
       "      <td>-0.044397</td>\n",
       "      <td>0.347322</td>\n",
       "      <td>-1.138653</td>\n",
       "      <td>0.213034</td>\n",
       "      <td>0</td>\n",
       "      <td>0</td>\n",
       "      <td>0</td>\n",
       "      <td>3</td>\n",
       "      <td>3</td>\n",
       "      <td>0</td>\n",
       "      <td>1</td>\n",
       "      <td>0</td>\n",
       "      <td>1</td>\n",
       "      <td>1</td>\n",
       "      <td>1</td>\n",
       "    </tr>\n",
       "    <tr>\n",
       "      <th>2</th>\n",
       "      <td>2564</td>\n",
       "      <td>0.578919</td>\n",
       "      <td>-0.758292</td>\n",
       "      <td>-0.690817</td>\n",
       "      <td>-0.538027</td>\n",
       "      <td>-0.891023</td>\n",
       "      <td>0.387641</td>\n",
       "      <td>0</td>\n",
       "      <td>1</td>\n",
       "      <td>0</td>\n",
       "      <td>7</td>\n",
       "      <td>8</td>\n",
       "      <td>0</td>\n",
       "      <td>1</td>\n",
       "      <td>0</td>\n",
       "      <td>1</td>\n",
       "      <td>1</td>\n",
       "      <td>1</td>\n",
       "    </tr>\n",
       "    <tr>\n",
       "      <th>3</th>\n",
       "      <td>3787</td>\n",
       "      <td>0.015278</td>\n",
       "      <td>-0.758292</td>\n",
       "      <td>-0.783163</td>\n",
       "      <td>-0.811010</td>\n",
       "      <td>-0.313219</td>\n",
       "      <td>0.000000</td>\n",
       "      <td>0</td>\n",
       "      <td>0</td>\n",
       "      <td>0</td>\n",
       "      <td>4</td>\n",
       "      <td>1</td>\n",
       "      <td>0</td>\n",
       "      <td>0</td>\n",
       "      <td>1</td>\n",
       "      <td>1</td>\n",
       "      <td>0</td>\n",
       "      <td>1</td>\n",
       "    </tr>\n",
       "    <tr>\n",
       "      <th>4</th>\n",
       "      <td>4139</td>\n",
       "      <td>0.470207</td>\n",
       "      <td>-0.758292</td>\n",
       "      <td>0.348072</td>\n",
       "      <td>-0.129783</td>\n",
       "      <td>-0.065589</td>\n",
       "      <td>-0.485392</td>\n",
       "      <td>0</td>\n",
       "      <td>0</td>\n",
       "      <td>0</td>\n",
       "      <td>3</td>\n",
       "      <td>2</td>\n",
       "      <td>0</td>\n",
       "      <td>0</td>\n",
       "      <td>1</td>\n",
       "      <td>1</td>\n",
       "      <td>0</td>\n",
       "      <td>1</td>\n",
       "    </tr>\n",
       "  </tbody>\n",
       "</table>\n",
       "</div>"
      ],
      "text/plain": [
       "   Unnamed: 0  stand__age  stand__cigsPerDay  stand__totChol  stand__BMI  \\\n",
       "0         264    0.894112          -0.758292       -1.406496    3.030421   \n",
       "1         385   -1.294345          -0.758292       -0.044397    0.347322   \n",
       "2        2564    0.578919          -0.758292       -0.690817   -0.538027   \n",
       "3        3787    0.015278          -0.758292       -0.783163   -0.811010   \n",
       "4        4139    0.470207          -0.758292        0.348072   -0.129783   \n",
       "\n",
       "   stand__heartRate  stand__glucose  remainder__currentSmoker  \\\n",
       "0         -0.643393        0.518596                         0   \n",
       "1         -1.138653        0.213034                         0   \n",
       "2         -0.891023        0.387641                         0   \n",
       "3         -0.313219        0.000000                         0   \n",
       "4         -0.065589       -0.485392                         0   \n",
       "\n",
       "   remainder__prevalentHyp  remainder__diabetes  remainder__sysBP  \\\n",
       "0                        1                    0                 6   \n",
       "1                        0                    0                 3   \n",
       "2                        1                    0                 7   \n",
       "3                        0                    0                 4   \n",
       "4                        0                    0                 3   \n",
       "\n",
       "   remainder__diaBP  remainder__education_uneducated  \\\n",
       "0                 8                                1   \n",
       "1                 3                                0   \n",
       "2                 8                                0   \n",
       "3                 1                                0   \n",
       "4                 2                                0   \n",
       "\n",
       "   remainder__education_primaryschool  remainder__education_graduate  \\\n",
       "0                                   0                              0   \n",
       "1                                   1                              0   \n",
       "2                                   1                              0   \n",
       "3                                   0                              1   \n",
       "4                                   0                              1   \n",
       "\n",
       "   remainder__BPMeds_0.0  remainder__Gender_Male  \\\n",
       "0                      1                       1   \n",
       "1                      1                       1   \n",
       "2                      1                       1   \n",
       "3                      1                       0   \n",
       "4                      1                       0   \n",
       "\n",
       "   remainder__prevalentStroke_no  \n",
       "0                              1  \n",
       "1                              1  \n",
       "2                              1  \n",
       "3                              1  \n",
       "4                              1  "
      ]
     },
     "execution_count": 3,
     "metadata": {},
     "output_type": "execute_result"
    }
   ],
   "source": [
    "X_train.head()"
   ]
  },
  {
   "cell_type": "code",
   "execution_count": null,
   "id": "ecf103f8",
   "metadata": {},
   "outputs": [],
   "source": []
  },
  {
   "cell_type": "markdown",
   "id": "0b8ff035",
   "metadata": {},
   "source": [
    "# Models performance \n",
    "Will check model performance with cross validation using Logistic Regression, Random Forest and XGBClassifier on orginal imbalanced data, under-sampled data, over-sampled data, using cost-sensitive learning and Ensemble techniques.\n",
    "## on original data"
   ]
  },
  {
   "cell_type": "code",
   "execution_count": 4,
   "id": "9de294f1",
   "metadata": {},
   "outputs": [],
   "source": [
    "# Dictionary to save results\n",
    "mean = {}\n",
    "std = {}"
   ]
  },
  {
   "cell_type": "markdown",
   "id": "514a9513",
   "metadata": {},
   "source": [
    "### Logistic Regression"
   ]
  },
  {
   "cell_type": "code",
   "execution_count": 5,
   "id": "231bc690",
   "metadata": {},
   "outputs": [],
   "source": [
    "\n",
    "logit = LogisticRegression( max_iter=1000, n_jobs=4, random_state=0)\n",
    "\n",
    "skf = StratifiedKFold(n_splits=5, shuffle=True, random_state=4)\n",
    "# estimate generalization error\n",
    "score =  cross_validate(\n",
    "    logit,\n",
    "    X_train, \n",
    "    y_train,\n",
    "    scoring='roc_auc',\n",
    "    return_train_score=True,\n",
    "    cv=skf, # k-fold\n",
    ")"
   ]
  },
  {
   "cell_type": "code",
   "execution_count": 6,
   "id": "41b8570d",
   "metadata": {},
   "outputs": [
    {
     "name": "stdout",
     "output_type": "stream",
     "text": [
      "mean train set roc-auc:  0.7296568135681238  +-  0.002541511592061921\n",
      "mean test set roc-auc:  0.7180476289558686  +-  0.01460691432955568\n"
     ]
    }
   ],
   "source": [
    "print('mean train set roc-auc: ', np.mean(score['train_score']), ' +- ', np.std(score['train_score']))\n",
    "print('mean test set roc-auc: ', np.mean(score['test_score']), ' +- ', np.std(score['test_score']))"
   ]
  },
  {
   "cell_type": "code",
   "execution_count": 7,
   "id": "b2d039d6",
   "metadata": {},
   "outputs": [],
   "source": [
    "mean[\"logit_train\"] = np.mean(score['train_score'])\n",
    "std[\"logit_train\"] = np.std(score['train_score'])\n",
    "mean[\"logit_test\"] = np.mean(score['test_score'])\n",
    "std[\"logit_test\"] = np.std(score['test_score'])"
   ]
  },
  {
   "cell_type": "markdown",
   "id": "9a5caecc",
   "metadata": {},
   "source": [
    "### Random Forest"
   ]
  },
  {
   "cell_type": "code",
   "execution_count": 8,
   "id": "6902d8cd",
   "metadata": {},
   "outputs": [],
   "source": [
    " \n",
    "rf = RandomForestClassifier(random_state=0, n_jobs=4 )\n",
    "\n",
    "skf = StratifiedKFold(n_splits=5, shuffle=True, random_state=4)\n",
    "# estimate generalization error\n",
    "score =  cross_validate(\n",
    "    rf,\n",
    "    X_train, \n",
    "    y_train,\n",
    "    scoring='roc_auc',\n",
    "    return_train_score=True,\n",
    "    cv=skf, # k-fold\n",
    ")"
   ]
  },
  {
   "cell_type": "code",
   "execution_count": 9,
   "id": "c725ac8a",
   "metadata": {},
   "outputs": [
    {
     "name": "stdout",
     "output_type": "stream",
     "text": [
      "mean train set roc-auc:  1.0  +-  4.965068306494546e-17\n",
      "mean test set roc-auc:  0.6628282107682856  +-  0.015809943671813226\n"
     ]
    }
   ],
   "source": [
    "print('mean train set roc-auc: ', np.mean(score['train_score']), ' +- ', np.std(score['train_score']))\n",
    "print('mean test set roc-auc: ', np.mean(score['test_score']), ' +- ', np.std(score['test_score']))"
   ]
  },
  {
   "cell_type": "code",
   "execution_count": 10,
   "id": "40fb26c9",
   "metadata": {},
   "outputs": [],
   "source": [
    "mean[\"rf_train\"] = np.mean(score['train_score'])\n",
    "std[\"rf_train\"] = np.std(score['train_score'])\n",
    "mean[\"rf_test\"] = np.mean(score['test_score'])\n",
    "std[\"rf_test\"] = np.std(score['test_score'])\n"
   ]
  },
  {
   "cell_type": "markdown",
   "id": "e32b7a2b",
   "metadata": {},
   "source": [
    "### XGBClassifier"
   ]
  },
  {
   "cell_type": "code",
   "execution_count": 11,
   "id": "c787726b",
   "metadata": {},
   "outputs": [],
   "source": [
    "xgb = XGBClassifier(random_state=0, n_jobs=4)\n",
    "\n",
    "skf = StratifiedKFold(n_splits=5, shuffle=True, random_state=4)\n",
    "# estimate generalization error\n",
    "score =  cross_validate(\n",
    "    xgb,\n",
    "    X_train, \n",
    "    y_train,\n",
    "    scoring='roc_auc',\n",
    "    return_train_score=True,\n",
    "    cv=skf, # k-fold\n",
    ")"
   ]
  },
  {
   "cell_type": "code",
   "execution_count": 12,
   "id": "1e1fe3a6",
   "metadata": {},
   "outputs": [
    {
     "name": "stdout",
     "output_type": "stream",
     "text": [
      "mean train set roc-auc:  0.9999994442221333  +-  1.1115557334129278e-06\n",
      "mean test set roc-auc:  0.6221301745833581  +-  0.025535923449873255\n"
     ]
    }
   ],
   "source": [
    "print('mean train set roc-auc: ', np.mean(score['train_score']), ' +- ', np.std(score['train_score']))\n",
    "print('mean test set roc-auc: ', np.mean(score['test_score']), ' +- ', np.std(score['test_score']))"
   ]
  },
  {
   "cell_type": "code",
   "execution_count": 13,
   "id": "2208f440",
   "metadata": {},
   "outputs": [],
   "source": [
    "mean[\"xgb_train\"] = np.mean(score['train_score'])\n",
    "std[\"xgb_train\"] = np.std(score['train_score'])\n",
    "mean[\"xgb_test\"] = np.mean(score['test_score'])\n",
    "std[\"xgb_test\"] = np.std(score['test_score'])\n"
   ]
  },
  {
   "cell_type": "code",
   "execution_count": 14,
   "id": "9cfe33d8",
   "metadata": {},
   "outputs": [],
   "source": [
    "# creating datafram\n",
    "mean = pd.DataFrame.from_dict(mean, orient='index', columns=['mean'])"
   ]
  },
  {
   "cell_type": "code",
   "execution_count": 15,
   "id": "015daee3",
   "metadata": {},
   "outputs": [],
   "source": [
    "# creating datafram\n",
    "std = pd.DataFrame.from_dict(std, orient='index', columns=['std'])"
   ]
  },
  {
   "cell_type": "code",
   "execution_count": 16,
   "id": "1b9cab3b",
   "metadata": {},
   "outputs": [
    {
     "data": {
      "text/html": [
       "<div>\n",
       "<style scoped>\n",
       "    .dataframe tbody tr th:only-of-type {\n",
       "        vertical-align: middle;\n",
       "    }\n",
       "\n",
       "    .dataframe tbody tr th {\n",
       "        vertical-align: top;\n",
       "    }\n",
       "\n",
       "    .dataframe thead th {\n",
       "        text-align: right;\n",
       "    }\n",
       "</style>\n",
       "<table border=\"1\" class=\"dataframe\">\n",
       "  <thead>\n",
       "    <tr style=\"text-align: right;\">\n",
       "      <th></th>\n",
       "      <th>mean</th>\n",
       "      <th>std</th>\n",
       "    </tr>\n",
       "  </thead>\n",
       "  <tbody>\n",
       "    <tr>\n",
       "      <th>logit_train</th>\n",
       "      <td>0.729657</td>\n",
       "      <td>2.541512e-03</td>\n",
       "    </tr>\n",
       "    <tr>\n",
       "      <th>logit_test</th>\n",
       "      <td>0.718048</td>\n",
       "      <td>1.460691e-02</td>\n",
       "    </tr>\n",
       "    <tr>\n",
       "      <th>rf_train</th>\n",
       "      <td>1.000000</td>\n",
       "      <td>4.965068e-17</td>\n",
       "    </tr>\n",
       "    <tr>\n",
       "      <th>rf_test</th>\n",
       "      <td>0.662828</td>\n",
       "      <td>1.580994e-02</td>\n",
       "    </tr>\n",
       "    <tr>\n",
       "      <th>xgb_train</th>\n",
       "      <td>0.999999</td>\n",
       "      <td>1.111556e-06</td>\n",
       "    </tr>\n",
       "    <tr>\n",
       "      <th>xgb_test</th>\n",
       "      <td>0.622130</td>\n",
       "      <td>2.553592e-02</td>\n",
       "    </tr>\n",
       "  </tbody>\n",
       "</table>\n",
       "</div>"
      ],
      "text/plain": [
       "                 mean           std\n",
       "logit_train  0.729657  2.541512e-03\n",
       "logit_test   0.718048  1.460691e-02\n",
       "rf_train     1.000000  4.965068e-17\n",
       "rf_test      0.662828  1.580994e-02\n",
       "xgb_train    0.999999  1.111556e-06\n",
       "xgb_test     0.622130  2.553592e-02"
      ]
     },
     "execution_count": 16,
     "metadata": {},
     "output_type": "execute_result"
    }
   ],
   "source": [
    "results = pd.concat([mean, std], axis=1)\n",
    "results = mean.join(std)\n",
    "results"
   ]
  },
  {
   "cell_type": "markdown",
   "id": "eb2cb135",
   "metadata": {},
   "source": [
    "There is an overfit in results obtained from Random Forest  abd XGB models. The \"roc-auc\" from logistic regression model is the highest with no overfit issue. Will use logistic regression in following comparsion on different sampling methods.    "
   ]
  },
  {
   "cell_type": "markdown",
   "id": "8d772e23",
   "metadata": {},
   "source": [
    "## Performance on Under-sampled data\n",
    "For data with categorical and contiouse features, RandomUnderSampler and InstanceHardnessThreshold can be applied"
   ]
  },
  {
   "cell_type": "code",
   "execution_count": 17,
   "id": "bc324843",
   "metadata": {},
   "outputs": [],
   "source": [
    "## Setting up Undersamplers dictionary\n",
    "\n",
    "undersampler_dict = {\n",
    "\n",
    "    'random': RandomUnderSampler(\n",
    "        sampling_strategy='auto',\n",
    "        random_state=0,\n",
    "        replacement=False),\n",
    "\n",
    "    \n",
    "    'iht': InstanceHardnessThreshold(\n",
    "        estimator=RandomForestClassifier(n_jobs=4, random_state=0),\n",
    "        sampling_strategy='auto',\n",
    "        random_state=0,\n",
    "        n_jobs=4,\n",
    "        cv=3)\n",
    "}"
   ]
  },
  {
   "cell_type": "code",
   "execution_count": 18,
   "id": "43a8273f",
   "metadata": {},
   "outputs": [
    {
     "data": {
      "text/plain": [
       "{'raw_data': 2966, 'random': 892, 'iht': 897}"
      ]
     },
     "execution_count": 18,
     "metadata": {},
     "output_type": "execute_result"
    }
   ],
   "source": [
    "\n",
    "shapes_dict = {} # store formed data shape\n",
    "\n",
    "\n",
    "# store raw data shape\n",
    "shapes_dict['raw_data'] = len(X_train)\n",
    "\n",
    "\n",
    "# now, we test the different under-samplers, 1 at a time\n",
    "for undersampler in undersampler_dict.keys():\n",
    "  \n",
    " # resample the train set only\n",
    "    X_resampled, y_resampled = undersampler_dict[undersampler].fit_resample(X_train, y_train)\n",
    "        \n",
    "        # store results\n",
    "    shapes_dict[undersampler] = len(X_resampled)\n",
    "    \n",
    "        \n",
    "shapes_dict\n"
   ]
  },
  {
   "cell_type": "code",
   "execution_count": 19,
   "id": "584edc51",
   "metadata": {},
   "outputs": [
    {
     "data": {
      "image/png": "[encoded data removed]",
      "text/plain": [
       "<Figure size 640x480 with 1 Axes>"
      ]
     },
     "metadata": {},
     "output_type": "display_data"
    }
   ],
   "source": [
    "# plot to visually compare datasets shape.\n",
    "pd.Series(shapes_dict).plot.bar()\n",
    "plt.title('Size of undersampled datasets')\n",
    "plt.ylabel('Number of observations')\n",
    "plt.show()"
   ]
  },
  {
   "cell_type": "markdown",
   "id": "123b02fc",
   "metadata": {},
   "source": [
    "### Logistic regression"
   ]
  },
  {
   "cell_type": "code",
   "execution_count": 20,
   "id": "229428e1",
   "metadata": {},
   "outputs": [],
   "source": [
    "undersampler_dict = {\n",
    "\n",
    "    'random': RandomUnderSampler(\n",
    "        sampling_strategy='auto',\n",
    "        random_state=0,\n",
    "        replacement=False),\n",
    "\n",
    "    'iht': InstanceHardnessThreshold(\n",
    "        estimator=LogisticRegression(max_iter=1000, n_jobs=4, random_state=0),\n",
    "        sampling_strategy='auto',\n",
    "        random_state=0,\n",
    "        n_jobs=4,\n",
    "        cv=3)\n",
    "}"
   ]
  },
  {
   "cell_type": "code",
   "execution_count": 21,
   "id": "47155ad7",
   "metadata": {},
   "outputs": [],
   "source": [
    "# To store all models performance\n",
    "results_dict_underSamp = {}"
   ]
  },
  {
   "cell_type": "code",
   "execution_count": 22,
   "id": "437da9b1",
   "metadata": {},
   "outputs": [],
   "source": [
    "# function to train random forests and evaluate the performance\n",
    "\n",
    "def run_LogisticRegression(X_train, X_test, y_train, y_test):\n",
    "\n",
    "    lr = LogisticRegression(random_state=0,max_iter=1000)\n",
    "\n",
    "    lr.fit(X_train, y_train)\n",
    "\n",
    "    print('Train set')\n",
    "    pred = lr.predict_proba(X_train)\n",
    "    print(\n",
    "        'Logistic Regression roc-auc: {}'.format(roc_auc_score(y_train, pred[:, 1])))\n",
    "\n",
    "    print('Test set')\n",
    "    pred = lr.predict_proba(X_test)\n",
    "    print(\n",
    "        'Logistic Regression roc-auc: {}'.format(roc_auc_score(y_test, pred[:, 1])))\n",
    "    \n",
    "    # NOTE: that this function returns the ROC over the test set\n",
    "    # which is the portion of the data that would not be under-sampled\n",
    "    return roc_auc_score(y_test, pred[:, 1])"
   ]
  },
  {
   "cell_type": "code",
   "execution_count": null,
   "id": "284756c6",
   "metadata": {},
   "outputs": [],
   "source": []
  },
  {
   "cell_type": "code",
   "execution_count": 23,
   "id": "a446a9c4",
   "metadata": {},
   "outputs": [
    {
     "name": "stdout",
     "output_type": "stream",
     "text": [
      "Train set\n",
      "Logistic Regression roc-auc: 0.729788597053171\n",
      "Test set\n",
      "Logistic Regression roc-auc: 0.7327699715967873\n",
      "\n",
      "random\n",
      "Train set\n",
      "Logistic Regression roc-auc: 0.7242353556275012\n",
      "Test set\n",
      "Logistic Regression roc-auc: 0.7286317551680681\n",
      "\n",
      "iht\n",
      "Train set\n",
      "Logistic Regression roc-auc: 0.9836463632890265\n",
      "Test set\n",
      "Logistic Regression roc-auc: 0.729257190151045\n",
      "\n",
      "\n"
     ]
    }
   ],
   "source": [
    "# to save the results\n",
    "results_dict = {}\n",
    "\n",
    "\n",
    "roc = run_LogisticRegression(X_train, X_test, y_train, y_test)\n",
    "\n",
    "# store results\n",
    "results_dict['raw_data'] = roc\n",
    "    \n",
    "print()\n",
    "\n",
    "# now, we test the different under-samplers, 1 at a time\n",
    "for undersampler in undersampler_dict.keys():\n",
    "    print(undersampler)\n",
    " # resample the train set only\n",
    "    X_resampled, y_resampled = undersampler_dict[undersampler].fit_resample(X_train, y_train)\n",
    "        \n",
    "        # train model and evaluate performance\n",
    "        \n",
    "        # Note the performance returned is using the test set, which was not under-sampled\n",
    "        \n",
    "    roc = run_LogisticRegression(X_resampled, X_test, y_resampled, y_test)\n",
    "        \n",
    "        # store results\n",
    "    results_dict[undersampler] = roc\n",
    "    results_dict_underSamp['Logistic Regression'] = roc \n",
    "   \n",
    "\n",
    "\n",
    "    print()\n",
    "     \n",
    "print()   "
   ]
  },
  {
   "cell_type": "code",
   "execution_count": 24,
   "id": "ff2ca871",
   "metadata": {
    "scrolled": true
   },
   "outputs": [
    {
     "data": {
      "image/png": "[encoded data removed]",
      "text/plain": [
       "<Figure size 640x480 with 1 Axes>"
      ]
     },
     "metadata": {},
     "output_type": "display_data"
    }
   ],
   "source": [
    "# Plotting the roc-auc of logistic regression on datasets obtained by undersampling\n",
    "\n",
    "pd.Series(results_dict).plot.bar()\n",
    "plt.title('Logistic Regression Models performance')\n",
    "plt.ylabel('roc-auc')\n",
    "\n",
    "plt.ylim(0.6, 0.8)\n",
    "plt.axhline(results_dict['raw_data'], color='r')\n",
    "plt.show()"
   ]
  },
  {
   "cell_type": "code",
   "execution_count": null,
   "id": "816f6550",
   "metadata": {},
   "outputs": [],
   "source": []
  },
  {
   "cell_type": "markdown",
   "id": "e2caf333",
   "metadata": {},
   "source": [
    "## Performance on Over-sampled data"
   ]
  },
  {
   "cell_type": "code",
   "execution_count": 25,
   "id": "c78b4bad",
   "metadata": {},
   "outputs": [],
   "source": [
    "results_dict_overSamp = {}"
   ]
  },
  {
   "cell_type": "markdown",
   "id": "975c208c",
   "metadata": {},
   "source": [
    "Only oversampling metods that work on mixed  variables are RandomOverSampler and SMOTENC. For SMOTENC we need to identify categorical_features to include as argument. "
   ]
  },
  {
   "cell_type": "code",
   "execution_count": 26,
   "id": "158b6bdb",
   "metadata": {},
   "outputs": [
    {
     "data": {
      "text/plain": [
       "['remainder__currentSmoker',\n",
       " 'remainder__prevalentHyp',\n",
       " 'remainder__diabetes',\n",
       " 'remainder__sysBP',\n",
       " 'remainder__diaBP',\n",
       " 'remainder__education_uneducated',\n",
       " 'remainder__education_primaryschool',\n",
       " 'remainder__education_graduate',\n",
       " 'remainder__BPMeds_0.0',\n",
       " 'remainder__Gender_Male',\n",
       " 'remainder__prevalentStroke_no']"
      ]
     },
     "execution_count": 26,
     "metadata": {},
     "output_type": "execute_result"
    }
   ],
   "source": [
    "# identify categorical variables\n",
    "cat_vars = [var for var in X_train.columns if X_train[var].nunique() <= 10]\n",
    "cat_vars"
   ]
  },
  {
   "cell_type": "code",
   "execution_count": 27,
   "id": "839d143d",
   "metadata": {},
   "outputs": [
    {
     "data": {
      "text/plain": [
       "[0, 1, 2, 3, 4, 5, 6, 7, 8, 9, 10]"
      ]
     },
     "execution_count": 27,
     "metadata": {},
     "output_type": "execute_result"
    }
   ],
   "source": [
    "cat_vars_index = [cat_vars.index(x) for x in cat_vars]\n",
    "cat_vars_index"
   ]
  },
  {
   "cell_type": "code",
   "execution_count": null,
   "id": "94965718",
   "metadata": {},
   "outputs": [],
   "source": []
  },
  {
   "cell_type": "code",
   "execution_count": 28,
   "id": "71d2c257",
   "metadata": {},
   "outputs": [],
   "source": [
    "## Setting Oversamplers\n",
    "\n",
    "oversampler_dict = {\n",
    "\n",
    "    'randomOver': RandomOverSampler(\n",
    "        sampling_strategy='auto',\n",
    "        random_state=0),\n",
    "\n",
    "    'smotenc': SMOTENC(\n",
    "        sampling_strategy='auto',  # samples only the minority class\n",
    "        random_state=0,  # for reproducibility\n",
    "        k_neighbors=5,\n",
    "        categorical_features = cat_vars_index,\n",
    "       ),\n",
    "\n",
    "    \n",
    "}\n"
   ]
  },
  {
   "cell_type": "code",
   "execution_count": null,
   "id": "818d0809",
   "metadata": {},
   "outputs": [],
   "source": []
  },
  {
   "cell_type": "code",
   "execution_count": 29,
   "id": "3d8be3f3",
   "metadata": {},
   "outputs": [
    {
     "data": {
      "text/plain": [
       "{'raw_data': 2966, 'randomOver': 5040, 'smotenc': 5040}"
      ]
     },
     "execution_count": 29,
     "metadata": {},
     "output_type": "execute_result"
    }
   ],
   "source": [
    "# to save the results\n",
    "\n",
    "shapes_dict = {}\n",
    "\n",
    "\n",
    "# store results\n",
    "shapes_dict['raw_data'] = len(X_train)\n",
    "\n",
    "\n",
    "# now, we test the different under-samplers, 1 at a time\n",
    "for oversampler in oversampler_dict.keys():\n",
    "  \n",
    " # resample the train set only\n",
    "    X_resampled, y_resampled = oversampler_dict[oversampler].fit_resample(X_train, y_train)\n",
    "        \n",
    "        # store results\n",
    "    shapes_dict[oversampler] = len(X_resampled)\n",
    "    \n",
    "        \n",
    "shapes_dict\n"
   ]
  },
  {
   "cell_type": "code",
   "execution_count": null,
   "id": "e84fa5c4",
   "metadata": {},
   "outputs": [],
   "source": []
  },
  {
   "cell_type": "code",
   "execution_count": 30,
   "id": "cc01f45a",
   "metadata": {},
   "outputs": [
    {
     "data": {
      "image/png": "[encoded data removed]",
      "text/plain": [
       "<Figure size 640x480 with 1 Axes>"
      ]
     },
     "metadata": {},
     "output_type": "display_data"
    }
   ],
   "source": [
    "# plot to visually compare datasets shape.\n",
    "\n",
    "pd.Series(shapes_dict).plot.bar()\n",
    "plt.title('Size of oversampled datasets')\n",
    "plt.ylabel('Number of observations')\n",
    "plt.show()"
   ]
  },
  {
   "cell_type": "markdown",
   "id": "9808d0d5",
   "metadata": {},
   "source": [
    "## logistic regression"
   ]
  },
  {
   "cell_type": "code",
   "execution_count": 31,
   "id": "80a40c4e",
   "metadata": {},
   "outputs": [
    {
     "name": "stdout",
     "output_type": "stream",
     "text": [
      "Train set\n",
      "Logistic Regression roc-auc: 0.729788597053171\n",
      "Test set\n",
      "Logistic Regression roc-auc: 0.7327699715967873\n",
      "\n",
      "randomOver\n",
      "Train set\n",
      "Logistic Regression roc-auc: 0.7244868039808516\n",
      "Test set\n",
      "Logistic Regression roc-auc: 0.7299907830634088\n",
      "\n",
      "smotenc\n",
      "Train set\n",
      "Logistic Regression roc-auc: 0.7436800831443688\n",
      "Test set\n",
      "Logistic Regression roc-auc: 0.7198803679250606\n",
      "\n",
      "\n"
     ]
    }
   ],
   "source": [
    "results_dict = {}\n",
    "shapes_dict = {}\n",
    "\n",
    "# train a model on the original data without under-sampling\n",
    "# and determine model performance\n",
    "roc = run_LogisticRegression(X_train, X_test, y_train, y_test)\n",
    "    \n",
    "# store results\n",
    "results_dict['row_data'] = roc\n",
    "shapes_dict['row_data'] = len(X_train)\n",
    "    \n",
    "print()\n",
    "\n",
    "# now, we test the different under-samplers, 1 at a time\n",
    "for oversampler in oversampler_dict.keys():\n",
    "    print(oversampler)\n",
    " # resample the train set only\n",
    "    X_resampled, y_resampled = oversampler_dict[oversampler].fit_resample(X_train, y_train)\n",
    "        \n",
    "        # train model and evaluate performance\n",
    "        \n",
    "        # Note the performance returned is using the\n",
    "        # test set, which was not under-sampled\n",
    "        \n",
    "    roc = run_LogisticRegression(X_resampled, X_test, y_resampled, y_test)\n",
    "        \n",
    "#         # store results\n",
    "#     results_dict['row_data'] = roc\n",
    "#     shapes_dict['row_data'] = len(X_train)\n",
    "  \n",
    "        \n",
    "\n",
    "    # store resultsoversampler\n",
    "    results_dict[oversampler] = roc\n",
    "    results_dict_overSamp['Logistic Regression'] = roc \n",
    "\n",
    "    print()\n",
    "print()"
   ]
  },
  {
   "cell_type": "code",
   "execution_count": 32,
   "id": "cb7b296f",
   "metadata": {},
   "outputs": [
    {
     "data": {
      "image/png": "[encoded data removed]",
      "text/plain": [
       "<Figure size 640x480 with 1 Axes>"
      ]
     },
     "metadata": {},
     "output_type": "display_data"
    }
   ],
   "source": [
    "pd.Series(results_dict).plot.bar()\n",
    "plt.title('Logistic Regression Models performance')\n",
    "plt.ylabel('roc-auc')\n",
    "\n",
    "plt.ylim(0.60, 0.75)\n",
    "plt.axhline(results_dict['row_data'], color='r')\n",
    "plt.show()"
   ]
  },
  {
   "cell_type": "markdown",
   "id": "4fcb050b",
   "metadata": {},
   "source": [
    "## Cost-sensitive learning\n",
    "### Logistic Regression"
   ]
  },
  {
   "cell_type": "code",
   "execution_count": 33,
   "id": "e1d42def",
   "metadata": {},
   "outputs": [
    {
     "name": "stdout",
     "output_type": "stream",
     "text": [
      "Train set\n",
      "Logistic Regression roc-auc: 0.7293027973521248\n",
      "Test set\n",
      "Logistic Regression roc-auc: 0.7339126836333542\n"
     ]
    }
   ],
   "source": [
    "\n",
    "logit = LogisticRegression(\n",
    " \n",
    "    random_state=0,\n",
    "    max_iter=1000,\n",
    "    n_jobs=4,\n",
    "    class_weight='balanced' # weights / cost\n",
    ")\n",
    "\n",
    "logit.fit(X_train, y_train)\n",
    "\n",
    "print('Train set')\n",
    "pred = logit.predict_proba(X_train)\n",
    "print(\n",
    "    'Logistic Regression roc-auc: {}'.format(roc_auc_score(y_train, pred[:, 1])))\n",
    "\n",
    "print('Test set')\n",
    "pred = logit.predict_proba(X_test)\n",
    "print(\n",
    "    'Logistic Regression roc-auc: {}'.format(roc_auc_score(y_test, pred[:, 1])))"
   ]
  },
  {
   "cell_type": "code",
   "execution_count": null,
   "id": "639c9a63",
   "metadata": {},
   "outputs": [],
   "source": []
  },
  {
   "cell_type": "code",
   "execution_count": 34,
   "id": "e25c47c8",
   "metadata": {},
   "outputs": [
    {
     "data": {
      "text/plain": [
       "0.7339126836333542"
      ]
     },
     "execution_count": 34,
     "metadata": {},
     "output_type": "execute_result"
    }
   ],
   "source": [
    "roc_auc_score(y_test, logit.predict_proba(X_test)[:, 1])"
   ]
  },
  {
   "cell_type": "markdown",
   "id": "ad242808",
   "metadata": {},
   "source": [
    "## Ensemble methods"
   ]
  },
  {
   "cell_type": "markdown",
   "id": "647ed014",
   "metadata": {},
   "source": [
    "### RUSBoost"
   ]
  },
  {
   "cell_type": "code",
   "execution_count": null,
   "id": "64977754",
   "metadata": {},
   "outputs": [],
   "source": []
  },
  {
   "cell_type": "code",
   "execution_count": 35,
   "id": "f4778874",
   "metadata": {},
   "outputs": [],
   "source": [
    "\n",
    "# set up the RUSBoost ensemble model\n",
    "\n",
    "rusboost = RUSBoostClassifier(\n",
    "        estimator=DecisionTreeClassifier(max_depth=1),\n",
    "        n_estimators=20,\n",
    "        learning_rate=1.0,\n",
    "        sampling_strategy='auto',\n",
    "        random_state=0,\n",
    "    )\n"
   ]
  },
  {
   "cell_type": "code",
   "execution_count": 36,
   "id": "06666966",
   "metadata": {},
   "outputs": [
    {
     "data": {
      "text/html": [
       "<style>#sk-container-id-1 {color: black;background-color: white;}#sk-container-id-1 pre{padding: 0;}#sk-container-id-1 div.sk-toggleable {background-color: white;}#sk-container-id-1 label.sk-toggleable__label {cursor: pointer;display: block;width: 100%;margin-bottom: 0;padding: 0.3em;box-sizing: border-box;text-align: center;}#sk-container-id-1 label.sk-toggleable__label-arrow:before {content: \"▸\";float: left;margin-right: 0.25em;color: #696969;}#sk-container-id-1 label.sk-toggleable__label-arrow:hover:before {color: black;}#sk-container-id-1 div.sk-estimator:hover label.sk-toggleable__label-arrow:before {color: black;}#sk-container-id-1 div.sk-toggleable__content {max-height: 0;max-width: 0;overflow: hidden;text-align: left;background-color: #f0f8ff;}#sk-container-id-1 div.sk-toggleable__content pre {margin: 0.2em;color: black;border-radius: 0.25em;background-color: #f0f8ff;}#sk-container-id-1 input.sk-toggleable__control:checked~div.sk-toggleable__content {max-height: 200px;max-width: 100%;overflow: auto;}#sk-container-id-1 input.sk-toggleable__control:checked~label.sk-toggleable__label-arrow:before {content: \"▾\";}#sk-container-id-1 div.sk-estimator input.sk-toggleable__control:checked~label.sk-toggleable__label {background-color: #d4ebff;}#sk-container-id-1 div.sk-label input.sk-toggleable__control:checked~label.sk-toggleable__label {background-color: #d4ebff;}#sk-container-id-1 input.sk-hidden--visually {border: 0;clip: rect(1px 1px 1px 1px);clip: rect(1px, 1px, 1px, 1px);height: 1px;margin: -1px;overflow: hidden;padding: 0;position: absolute;width: 1px;}#sk-container-id-1 div.sk-estimator {font-family: monospace;background-color: #f0f8ff;border: 1px dotted black;border-radius: 0.25em;box-sizing: border-box;margin-bottom: 0.5em;}#sk-container-id-1 div.sk-estimator:hover {background-color: #d4ebff;}#sk-container-id-1 div.sk-parallel-item::after {content: \"\";width: 100%;border-bottom: 1px solid gray;flex-grow: 1;}#sk-container-id-1 div.sk-label:hover label.sk-toggleable__label {background-color: #d4ebff;}#sk-container-id-1 div.sk-serial::before {content: \"\";position: absolute;border-left: 1px solid gray;box-sizing: border-box;top: 0;bottom: 0;left: 50%;z-index: 0;}#sk-container-id-1 div.sk-serial {display: flex;flex-direction: column;align-items: center;background-color: white;padding-right: 0.2em;padding-left: 0.2em;position: relative;}#sk-container-id-1 div.sk-item {position: relative;z-index: 1;}#sk-container-id-1 div.sk-parallel {display: flex;align-items: stretch;justify-content: center;background-color: white;position: relative;}#sk-container-id-1 div.sk-item::before, #sk-container-id-1 div.sk-parallel-item::before {content: \"\";position: absolute;border-left: 1px solid gray;box-sizing: border-box;top: 0;bottom: 0;left: 50%;z-index: -1;}#sk-container-id-1 div.sk-parallel-item {display: flex;flex-direction: column;z-index: 1;position: relative;background-color: white;}#sk-container-id-1 div.sk-parallel-item:first-child::after {align-self: flex-end;width: 50%;}#sk-container-id-1 div.sk-parallel-item:last-child::after {align-self: flex-start;width: 50%;}#sk-container-id-1 div.sk-parallel-item:only-child::after {width: 0;}#sk-container-id-1 div.sk-dashed-wrapped {border: 1px dashed gray;margin: 0 0.4em 0.5em 0.4em;box-sizing: border-box;padding-bottom: 0.4em;background-color: white;}#sk-container-id-1 div.sk-label label {font-family: monospace;font-weight: bold;display: inline-block;line-height: 1.2em;}#sk-container-id-1 div.sk-label-container {text-align: center;}#sk-container-id-1 div.sk-container {/* jupyter's `normalize.less` sets `[hidden] { display: none; }` but bootstrap.min.css set `[hidden] { display: none !important; }` so we also need the `!important` here to be able to override the default hidden behavior on the sphinx rendered scikit-learn.org. See: https://github.com/scikit-learn/scikit-learn/issues/21755 */display: inline-block !important;position: relative;}#sk-container-id-1 div.sk-text-repr-fallback {display: none;}</style><div id=\"sk-container-id-1\" class=\"sk-top-container\"><div class=\"sk-text-repr-fallback\"><pre>RUSBoostClassifier(estimator=DecisionTreeClassifier(max_depth=1),\n",
       "                   n_estimators=20, random_state=0)</pre><b>In a Jupyter environment, please rerun this cell to show the HTML representation or trust the notebook. <br />On GitHub, the HTML representation is unable to render, please try loading this page with nbviewer.org.</b></div><div class=\"sk-container\" hidden><div class=\"sk-item sk-dashed-wrapped\"><div class=\"sk-label-container\"><div class=\"sk-label sk-toggleable\"><input class=\"sk-toggleable__control sk-hidden--visually\" id=\"sk-estimator-id-1\" type=\"checkbox\" ><label for=\"sk-estimator-id-1\" class=\"sk-toggleable__label sk-toggleable__label-arrow\">RUSBoostClassifier</label><div class=\"sk-toggleable__content\"><pre>RUSBoostClassifier(estimator=DecisionTreeClassifier(max_depth=1),\n",
       "                   n_estimators=20, random_state=0)</pre></div></div></div><div class=\"sk-parallel\"><div class=\"sk-parallel-item\"><div class=\"sk-item\"><div class=\"sk-label-container\"><div class=\"sk-label sk-toggleable\"><input class=\"sk-toggleable__control sk-hidden--visually\" id=\"sk-estimator-id-2\" type=\"checkbox\" ><label for=\"sk-estimator-id-2\" class=\"sk-toggleable__label sk-toggleable__label-arrow\">estimator: DecisionTreeClassifier</label><div class=\"sk-toggleable__content\"><pre>DecisionTreeClassifier(max_depth=1)</pre></div></div></div><div class=\"sk-serial\"><div class=\"sk-item\"><div class=\"sk-estimator sk-toggleable\"><input class=\"sk-toggleable__control sk-hidden--visually\" id=\"sk-estimator-id-3\" type=\"checkbox\" ><label for=\"sk-estimator-id-3\" class=\"sk-toggleable__label sk-toggleable__label-arrow\">DecisionTreeClassifier</label><div class=\"sk-toggleable__content\"><pre>DecisionTreeClassifier(max_depth=1)</pre></div></div></div></div></div></div></div></div></div></div>"
      ],
      "text/plain": [
       "RUSBoostClassifier(estimator=DecisionTreeClassifier(max_depth=1),\n",
       "                   n_estimators=20, random_state=0)"
      ]
     },
     "execution_count": 36,
     "metadata": {},
     "output_type": "execute_result"
    }
   ],
   "source": [
    "# train model\n",
    "rusboost.fit(X_train, y_train)"
   ]
  },
  {
   "cell_type": "code",
   "execution_count": 37,
   "id": "23fcab02",
   "metadata": {},
   "outputs": [
    {
     "name": "stdout",
     "output_type": "stream",
     "text": [
      "Train roc_auc:  0.6739874724179657\n",
      "Test roc_auc:  0.6407887064311646\n"
     ]
    }
   ],
   "source": [
    "# Now let's get the performance on train and test\n",
    "\n",
    "X_train_preds = rusboost.predict_proba(X_train)[:,1]\n",
    "X_test_preds = rusboost.predict_proba(X_test)[:,1]\n",
    "\n",
    "print('Train roc_auc: ', roc_auc_score(y_train, X_train_preds))\n",
    "print('Test roc_auc: ', roc_auc_score(y_test, X_test_preds))"
   ]
  },
  {
   "cell_type": "code",
   "execution_count": null,
   "id": "f65a9e33",
   "metadata": {},
   "outputs": [],
   "source": []
  },
  {
   "cell_type": "markdown",
   "id": "10469f74",
   "metadata": {},
   "source": [
    "### EasyEnsemble"
   ]
  },
  {
   "cell_type": "code",
   "execution_count": 38,
   "id": "44ea8e9d",
   "metadata": {},
   "outputs": [
    {
     "data": {
      "text/html": [
       "<style>#sk-container-id-2 {color: black;background-color: white;}#sk-container-id-2 pre{padding: 0;}#sk-container-id-2 div.sk-toggleable {background-color: white;}#sk-container-id-2 label.sk-toggleable__label {cursor: pointer;display: block;width: 100%;margin-bottom: 0;padding: 0.3em;box-sizing: border-box;text-align: center;}#sk-container-id-2 label.sk-toggleable__label-arrow:before {content: \"▸\";float: left;margin-right: 0.25em;color: #696969;}#sk-container-id-2 label.sk-toggleable__label-arrow:hover:before {color: black;}#sk-container-id-2 div.sk-estimator:hover label.sk-toggleable__label-arrow:before {color: black;}#sk-container-id-2 div.sk-toggleable__content {max-height: 0;max-width: 0;overflow: hidden;text-align: left;background-color: #f0f8ff;}#sk-container-id-2 div.sk-toggleable__content pre {margin: 0.2em;color: black;border-radius: 0.25em;background-color: #f0f8ff;}#sk-container-id-2 input.sk-toggleable__control:checked~div.sk-toggleable__content {max-height: 200px;max-width: 100%;overflow: auto;}#sk-container-id-2 input.sk-toggleable__control:checked~label.sk-toggleable__label-arrow:before {content: \"▾\";}#sk-container-id-2 div.sk-estimator input.sk-toggleable__control:checked~label.sk-toggleable__label {background-color: #d4ebff;}#sk-container-id-2 div.sk-label input.sk-toggleable__control:checked~label.sk-toggleable__label {background-color: #d4ebff;}#sk-container-id-2 input.sk-hidden--visually {border: 0;clip: rect(1px 1px 1px 1px);clip: rect(1px, 1px, 1px, 1px);height: 1px;margin: -1px;overflow: hidden;padding: 0;position: absolute;width: 1px;}#sk-container-id-2 div.sk-estimator {font-family: monospace;background-color: #f0f8ff;border: 1px dotted black;border-radius: 0.25em;box-sizing: border-box;margin-bottom: 0.5em;}#sk-container-id-2 div.sk-estimator:hover {background-color: #d4ebff;}#sk-container-id-2 div.sk-parallel-item::after {content: \"\";width: 100%;border-bottom: 1px solid gray;flex-grow: 1;}#sk-container-id-2 div.sk-label:hover label.sk-toggleable__label {background-color: #d4ebff;}#sk-container-id-2 div.sk-serial::before {content: \"\";position: absolute;border-left: 1px solid gray;box-sizing: border-box;top: 0;bottom: 0;left: 50%;z-index: 0;}#sk-container-id-2 div.sk-serial {display: flex;flex-direction: column;align-items: center;background-color: white;padding-right: 0.2em;padding-left: 0.2em;position: relative;}#sk-container-id-2 div.sk-item {position: relative;z-index: 1;}#sk-container-id-2 div.sk-parallel {display: flex;align-items: stretch;justify-content: center;background-color: white;position: relative;}#sk-container-id-2 div.sk-item::before, #sk-container-id-2 div.sk-parallel-item::before {content: \"\";position: absolute;border-left: 1px solid gray;box-sizing: border-box;top: 0;bottom: 0;left: 50%;z-index: -1;}#sk-container-id-2 div.sk-parallel-item {display: flex;flex-direction: column;z-index: 1;position: relative;background-color: white;}#sk-container-id-2 div.sk-parallel-item:first-child::after {align-self: flex-end;width: 50%;}#sk-container-id-2 div.sk-parallel-item:last-child::after {align-self: flex-start;width: 50%;}#sk-container-id-2 div.sk-parallel-item:only-child::after {width: 0;}#sk-container-id-2 div.sk-dashed-wrapped {border: 1px dashed gray;margin: 0 0.4em 0.5em 0.4em;box-sizing: border-box;padding-bottom: 0.4em;background-color: white;}#sk-container-id-2 div.sk-label label {font-family: monospace;font-weight: bold;display: inline-block;line-height: 1.2em;}#sk-container-id-2 div.sk-label-container {text-align: center;}#sk-container-id-2 div.sk-container {/* jupyter's `normalize.less` sets `[hidden] { display: none; }` but bootstrap.min.css set `[hidden] { display: none !important; }` so we also need the `!important` here to be able to override the default hidden behavior on the sphinx rendered scikit-learn.org. See: https://github.com/scikit-learn/scikit-learn/issues/21755 */display: inline-block !important;position: relative;}#sk-container-id-2 div.sk-text-repr-fallback {display: none;}</style><div id=\"sk-container-id-2\" class=\"sk-top-container\"><div class=\"sk-text-repr-fallback\"><pre>EasyEnsembleClassifier(random_state=0)</pre><b>In a Jupyter environment, please rerun this cell to show the HTML representation or trust the notebook. <br />On GitHub, the HTML representation is unable to render, please try loading this page with nbviewer.org.</b></div><div class=\"sk-container\" hidden><div class=\"sk-item\"><div class=\"sk-estimator sk-toggleable\"><input class=\"sk-toggleable__control sk-hidden--visually\" id=\"sk-estimator-id-4\" type=\"checkbox\" checked><label for=\"sk-estimator-id-4\" class=\"sk-toggleable__label sk-toggleable__label-arrow\">EasyEnsembleClassifier</label><div class=\"sk-toggleable__content\"><pre>EasyEnsembleClassifier(random_state=0)</pre></div></div></div></div></div>"
      ],
      "text/plain": [
       "EasyEnsembleClassifier(random_state=0)"
      ]
     },
     "execution_count": 38,
     "metadata": {},
     "output_type": "execute_result"
    }
   ],
   "source": [
    "easy = EasyEnsembleClassifier(\n",
    "        n_estimators=10,\n",
    "        sampling_strategy='auto',\n",
    "        random_state=0,\n",
    "    )\n",
    "\n",
    "\n",
    "# train model\n",
    "easy.fit(X_train, y_train)\n"
   ]
  },
  {
   "cell_type": "code",
   "execution_count": 39,
   "id": "31472aaa",
   "metadata": {},
   "outputs": [
    {
     "name": "stdout",
     "output_type": "stream",
     "text": [
      "Train roc_auc:  0.7723005196099366\n",
      "Test roc_auc:  0.7047194477362076\n"
     ]
    }
   ],
   "source": [
    "# Now let's get the performance on train and test\n",
    "\n",
    "X_train_preds = easy.predict_proba(X_train)[:,1]\n",
    "X_test_preds = easy.predict_proba(X_test)[:,1]\n",
    "\n",
    "print('Train roc_auc: ', roc_auc_score(y_train, X_train_preds))\n",
    "print('Test roc_auc: ', roc_auc_score(y_test, X_test_preds))"
   ]
  },
  {
   "cell_type": "markdown",
   "id": "da8f598a",
   "metadata": {},
   "source": [
    "# Hyperparameter Optimization\n",
    "\n",
    "Comparing results obtained using defealt parameters for Logistc Regression, it seems that Logistic Regression with Random under-sampling and Cost-sensitive learning (class_weight='balanced') gave slightly better results.\n",
    "\n",
    "Further comparsion between Logistic Regression algorithm utilizing under-sampling and Logistic Regression Cost-sensitive learning models will be done after Hyperparameter Optimization is perfomed."
   ]
  },
  {
   "cell_type": "markdown",
   "id": "65a6df7b",
   "metadata": {},
   "source": [
    "## Setting GridSearchCV for orginal dataset"
   ]
  },
  {
   "cell_type": "code",
   "execution_count": 40,
   "id": "ad4a88e1",
   "metadata": {},
   "outputs": [],
   "source": [
    "# Logistic Regression\n",
    "logit = LogisticRegression(\n",
    "    penalty ='l2', C=1, solver='liblinear', random_state=4, max_iter=10000)\n",
    "\n",
    "# hyperparameter space\n",
    "param_grid = dict(\n",
    "    penalty=['l1', 'l2'],\n",
    "    C=[10,100, 300,400,500],\n",
    ")\n",
    "\n",
    "# K-Fold Cross-Validation\n",
    "kf = KFold(n_splits=5, shuffle=True, random_state=4)\n",
    "\n",
    "# search\n",
    "clf =  GridSearchCV(\n",
    "    logit,\n",
    "    param_grid,\n",
    "    scoring='roc_auc',\n",
    "    cv=kf, # k-fold\n",
    "    refit=True, # refits best model to entire dataset\n",
    ")\n",
    "\n",
    "search = clf.fit(X_train, y_train)\n"
   ]
  },
  {
   "cell_type": "code",
   "execution_count": 41,
   "id": "5c61f787",
   "metadata": {},
   "outputs": [
    {
     "data": {
      "text/plain": [
       "{'C': 500, 'penalty': 'l2'}"
      ]
     },
     "execution_count": 41,
     "metadata": {},
     "output_type": "execute_result"
    }
   ],
   "source": [
    "\n",
    "# best hyperparameters\n",
    "search.best_params_"
   ]
  },
  {
   "cell_type": "code",
   "execution_count": null,
   "id": "ff2e165d",
   "metadata": {},
   "outputs": [],
   "source": []
  },
  {
   "cell_type": "code",
   "execution_count": 42,
   "id": "ee2a7ae3",
   "metadata": {},
   "outputs": [],
   "source": [
    "X_train_preds = search.predict_proba(X_train)[:,1]\n",
    "X_test_preds = search.predict_proba(X_test)[:,1]\n"
   ]
  },
  {
   "cell_type": "code",
   "execution_count": 43,
   "id": "65209c77",
   "metadata": {},
   "outputs": [
    {
     "name": "stdout",
     "output_type": "stream",
     "text": [
      "Train roc_auc:  0.7309648373549719\n",
      "Test roc_auc:  0.7321257265391344\n"
     ]
    }
   ],
   "source": [
    "\n",
    "print('Train roc_auc: ', roc_auc_score(y_train, X_train_preds))\n",
    "print('Test roc_auc: ', roc_auc_score(y_test, X_test_preds))"
   ]
  },
  {
   "cell_type": "markdown",
   "id": "6927e390",
   "metadata": {},
   "source": [
    "## GridSearchCV for Random undersampled "
   ]
  },
  {
   "cell_type": "code",
   "execution_count": 44,
   "id": "cd062cb2",
   "metadata": {},
   "outputs": [],
   "source": [
    "# Under-sampling\n",
    "rus = RandomUnderSampler(\n",
    "    sampling_strategy='auto',  # samples only the majority class\n",
    "    random_state=0,  # for reproducibility\n",
    "    replacement=True # if it should resample with replacement\n",
    ")  \n",
    "\n",
    "X_resampled, y_resampled = rus.fit_resample(X_train, y_train)"
   ]
  },
  {
   "cell_type": "code",
   "execution_count": 45,
   "id": "254aaf71",
   "metadata": {},
   "outputs": [
    {
     "data": {
      "text/plain": [
       "((892, 18), (892,))"
      ]
     },
     "execution_count": 45,
     "metadata": {},
     "output_type": "execute_result"
    }
   ],
   "source": [
    "X_resampled.shape, y_resampled.shape"
   ]
  },
  {
   "cell_type": "code",
   "execution_count": 46,
   "id": "a76cde4c",
   "metadata": {},
   "outputs": [],
   "source": [
    "# Logistic Regression\n",
    "logit = LogisticRegression(\n",
    "    penalty ='l2', C=1, solver='liblinear', random_state=4, max_iter=10000)\n",
    "\n",
    "# hyperparameter space\n",
    "param_grid = dict(\n",
    "    penalty=['l1', 'l2'],\n",
    "    C=[10,100, 300,400,500],\n",
    ")\n",
    "\n",
    "# K-Fold Cross-Validation\n",
    "kf = KFold(n_splits=5, shuffle=True, random_state=4)\n",
    "\n",
    "# search\n",
    "clf =  GridSearchCV(\n",
    "    logit,\n",
    "    param_grid,\n",
    "    scoring='roc_auc',\n",
    "    cv=kf, # k-fold\n",
    "    refit=True, # refits best model to entire dataset\n",
    ")\n",
    "\n",
    "search = clf.fit(X_resampled, y_resampled)\n"
   ]
  },
  {
   "cell_type": "code",
   "execution_count": 47,
   "id": "b1e7b8ea",
   "metadata": {},
   "outputs": [
    {
     "data": {
      "text/plain": [
       "{'C': 300, 'penalty': 'l2'}"
      ]
     },
     "execution_count": 47,
     "metadata": {},
     "output_type": "execute_result"
    }
   ],
   "source": [
    "search.best_params_"
   ]
  },
  {
   "cell_type": "code",
   "execution_count": 48,
   "id": "e6d4785a",
   "metadata": {},
   "outputs": [
    {
     "name": "stdout",
     "output_type": "stream",
     "text": [
      "Train roc_auc:  0.756862193086529\n",
      "Test roc_auc:  0.7234213644828171\n"
     ]
    }
   ],
   "source": [
    "\n",
    "X_train_preds = search.predict_proba(X_resampled)[:,1]\n",
    "X_test_preds = search.predict_proba(X_test)[:,1]\n",
    "\n",
    "print('Train roc_auc: ', roc_auc_score(y_resampled, X_train_preds))\n",
    "print('Test roc_auc: ', roc_auc_score(y_test, X_test_preds))"
   ]
  },
  {
   "cell_type": "markdown",
   "id": "e515a105",
   "metadata": {},
   "source": [
    "## GridSearchCV for Cost-sensitive learning "
   ]
  },
  {
   "cell_type": "code",
   "execution_count": 49,
   "id": "5f4dbd21",
   "metadata": {},
   "outputs": [],
   "source": [
    "# Logistic Regression\n",
    "logit = LogisticRegression(\n",
    "    penalty ='l2', C=1, solver='liblinear', random_state=4, max_iter=10000,class_weight='balanced' )\n",
    "\n",
    "# hyperparameter space\n",
    "param_grid = dict(\n",
    "    penalty=['l1', 'l2'],\n",
    "    C=[10,100, 300,400,500],\n",
    ")\n",
    "\n",
    "# K-Fold Cross-Validation\n",
    "kf = KFold(n_splits=5, shuffle=True, random_state=4)\n",
    "\n",
    "# search\n",
    "clf =  GridSearchCV(\n",
    "    logit,\n",
    "    param_grid,\n",
    "    scoring='roc_auc',\n",
    "    cv=kf, # k-fold\n",
    "    refit=True, # refits best model to entire dataset\n",
    ")\n",
    "\n",
    "search = clf.fit(X_train, y_train)\n"
   ]
  },
  {
   "cell_type": "code",
   "execution_count": 50,
   "id": "079593bd",
   "metadata": {},
   "outputs": [
    {
     "data": {
      "text/plain": [
       "{'C': 10, 'penalty': 'l2'}"
      ]
     },
     "execution_count": 50,
     "metadata": {},
     "output_type": "execute_result"
    }
   ],
   "source": [
    "# best hyperparameters\n",
    "search.best_params_"
   ]
  },
  {
   "cell_type": "code",
   "execution_count": 51,
   "id": "5f00a861",
   "metadata": {},
   "outputs": [
    {
     "name": "stdout",
     "output_type": "stream",
     "text": [
      "Train roc_auc:  0.7320556623247206\n",
      "Test roc_auc:  0.7310911724319547\n"
     ]
    }
   ],
   "source": [
    "X_train_preds = search.predict_proba(X_train)[:,1]\n",
    "X_test_preds = search.predict_proba(X_test)[:,1]\n",
    "\n",
    "\n",
    "\n",
    "print('Train roc_auc: ', roc_auc_score(y_train, X_train_preds))\n",
    "print('Test roc_auc: ', roc_auc_score(y_test, X_test_preds))"
   ]
  },
  {
   "cell_type": "markdown",
   "id": "ea9fd70b",
   "metadata": {},
   "source": [
    "Both  Under-sampling andCost-sensitive learning do not show any improvement compared with results obtained from orginal data"
   ]
  },
  {
   "cell_type": "code",
   "execution_count": null,
   "id": "82b2431c",
   "metadata": {},
   "outputs": [],
   "source": []
  }
 ],
 "metadata": {
  "kernelspec": {
   "display_name": "Python 3 (ipykernel)",
   "language": "python",
   "name": "python3"
  },
  "language_info": {
   "codemirror_mode": {
    "name": "ipython",
    "version": 3
   },
   "file_extension": ".py",
   "mimetype": "text/x-python",
   "name": "python",
   "nbconvert_exporter": "python",
   "pygments_lexer": "ipython3",
   "version": "3.10.8"
  },
  "toc": {
   "base_numbering": 1,
   "nav_menu": {},
   "number_sections": true,
   "sideBar": true,
   "skip_h1_title": false,
   "title_cell": "Table of Contents",
   "title_sidebar": "Contents",
   "toc_cell": false,
   "toc_position": {
    "height": "calc(100% - 180px)",
    "left": "10px",
    "top": "150px",
    "width": "345.502716px"
   },
   "toc_section_display": true,
   "toc_window_display": true
  }
 },
 "nbformat": 4,
 "nbformat_minor": 5
}
